{
 "cells": [
  {
   "cell_type": "markdown",
   "metadata": {},
   "source": [
    "# Lab | Intro to Probability"
   ]
  },
  {
   "cell_type": "markdown",
   "metadata": {},
   "source": [
    "**Objective**\n",
    "\n",
    "Welcome to this Intro to Probability lab, where we explore decision-making scenarios through the lens of probability and strategic analysis. In the business world, making informed decisions is crucial, especially when faced with uncertainties. This lab focuses on scenarios where probabilistic outcomes play a significant role in shaping strategies and outcomes. Students will engage in exercises that require assessing and choosing optimal paths based on data-driven insights. The goal is to enhance your skills by applying probability concepts to solve real-world problems."
   ]
  },
  {
   "cell_type": "markdown",
   "metadata": {},
   "source": [
    "**Challenge 1**"
   ]
  },
  {
   "cell_type": "markdown",
   "metadata": {},
   "source": [
    "#### Ironhack Airlines \n",
    "\n",
    "Often Airlines sell more tickets than they have seats available, this is called overbooking. Consider the following:\n",
    "- A plane has 450 seats. \n",
    "- Based on historical data we conclude that each individual passenger has a 3% chance of missing it's flight. \n",
    "\n",
    "If the Ironhack Airlines routinely sells 460 tickets, what is the chance that they have a seats for all passenger?"
   ]
  },
  {
   "cell_type": "code",
   "execution_count": 8,
   "metadata": {},
   "outputs": [
    {
     "name": "stdout",
     "output_type": "stream",
     "text": [
      "Probability of seats for all: 100 %\n"
     ]
    }
   ],
   "source": [
    "def probability_enough_seats(seats, tickets, miss_chance):\n",
    "    xPassengers = tickets * (1- miss_chance)\n",
    "    \n",
    "    if xPassengers <= seats:\n",
    "        return 100\n",
    "    else:\n",
    "        return 0\n",
    "    \n",
    "\n",
    "seats = 450\n",
    "tickets = 460\n",
    "miss_chance = 0.03\n",
    "\n",
    "print(f\"Probability of seats for all:\", probability_enough_seats(seats,tickets,miss_chance),\"%\")"
   ]
  },
  {
   "cell_type": "markdown",
   "metadata": {},
   "source": [
    "**Challenge 2**"
   ]
  },
  {
   "cell_type": "markdown",
   "metadata": {},
   "source": [
    "#### Ironhack Call Center "
   ]
  },
  {
   "cell_type": "markdown",
   "metadata": {},
   "source": [
    "Suppose a customer service representative at a call center is handling customer complaints. Consider the following:\n",
    "- The probability of successfully resolving a customer complaint on the first attempt is 0.3. \n",
    "\n",
    "\n",
    "What is the probability that the representative needs to make at least three attempts before successfully resolving a customer complaint?"
   ]
  },
  {
   "cell_type": "code",
   "execution_count": 10,
   "metadata": {},
   "outputs": [
    {
     "name": "stdout",
     "output_type": "stream",
     "text": [
      "The probability of needing at least three attempts is: 49.00%\n"
     ]
    }
   ],
   "source": [
    "def probability_at_least_three_attempts(resolve_probability):\n",
    "    \n",
    "    \n",
    "    two_attempts = resolve_probability * (1-resolve_probability)\n",
    "    \n",
    "    three_attempts = (1-(two_attempts + resolve_probability))\n",
    "    \n",
    "    return three_attempts\n",
    "\n",
    "\n",
    "\n",
    "    \n",
    "    \n",
    "resolve_probability = 0.3\n",
    "probability = probability_at_least_three_attempts(resolve_probability)\n",
    "\n",
    "print(f\"The probability of needing at least three attempts is: {probability:.2%}\")"
   ]
  },
  {
   "cell_type": "markdown",
   "metadata": {},
   "source": [
    "**Challenge 3**"
   ]
  },
  {
   "cell_type": "markdown",
   "metadata": {},
   "source": [
    "#### Ironhack Website"
   ]
  },
  {
   "cell_type": "markdown",
   "metadata": {},
   "source": [
    "Consider a scenario related to Ironhack website traffic. Where:\n",
    "- our website takes on average 500 visits per hour.\n",
    "- the website's server is designed to handle up to 550 vists per hour.\n",
    "\n",
    "\n",
    "What is the probability of the website server being overwhelmed?"
   ]
  },
  {
   "cell_type": "code",
   "execution_count": 3,
   "metadata": {},
   "outputs": [
    {
     "name": "stdout",
     "output_type": "stream",
     "text": [
      "The probability of the server being overloaded is: 9.09%\n"
     ]
    }
   ],
   "source": [
    "def probability_server_overload(avg_visits, server_capacity):\n",
    "\n",
    "  \n",
    "  overload_probability = 1 - (avg_visits / server_capacity)\n",
    "\n",
    "  return overload_probability\n",
    "\n",
    "\n",
    "average_visits = 500\n",
    "server_capacity = 550\n",
    "\n",
    "\n",
    "probability = probability_server_overload(average_visits, server_capacity)\n",
    "\n",
    "print(f\"The probability of the server being overloaded is: {probability:.2%}\")"
   ]
  },
  {
   "cell_type": "markdown",
   "metadata": {},
   "source": [
    "What is the probability of being overwhelmed at some point during a day? (consider 24hours)"
   ]
  },
  {
   "cell_type": "code",
   "execution_count": 11,
   "metadata": {},
   "outputs": [
    {
     "name": "stdout",
     "output_type": "stream",
     "text": [
      "The overestimated probability of overload at least once in a day is: 89.85%\n"
     ]
    }
   ],
   "source": [
    "def probability_overload_at_least_once(probability_per_hour, num_hours):\n",
    "\n",
    "# Probability of not overloaded in a single hour\n",
    "  probability_not_overloaded = 1 - probability_per_hour\n",
    "\n",
    "  # Probability of not overloaded in the entire period (assuming independence)\n",
    "  probability_not_overloaded_entire_period = probability_not_overloaded ** num_hours\n",
    "\n",
    "  # Probability of overload at least once (overestimation)\n",
    "  probability_overloaded_at_least_once = 1 - probability_not_overloaded_entire_period\n",
    "\n",
    "  return probability_overloaded_at_least_once\n",
    "\n",
    "# Input values from previous calculations\n",
    "probability_per_hour = 0.0909\n",
    "num_hours = 24\n",
    "\n",
    "# Calculate the probability\n",
    "probability = probability_overload_at_least_once(probability_per_hour, num_hours)\n",
    "\n",
    "# Print the result formatted as a percentage\n",
    "print(f\"The overestimated probability of overload at least once in a day is: {probability:.2%}\")"
   ]
  },
  {
   "cell_type": "markdown",
   "metadata": {},
   "source": [
    "**Challenge 4**"
   ]
  },
  {
   "cell_type": "markdown",
   "metadata": {},
   "source": [
    "#### Ironhack Helpdesk"
   ]
  },
  {
   "cell_type": "markdown",
   "metadata": {},
   "source": [
    "Consider a scenario related to the time between arrivals of customers at a service desk.\n",
    "\n",
    "On average, a customers arrives every 10minutes.\n",
    "\n",
    "What is the probability that the next customer will arrive within the next 5 minutes?"
   ]
  },
  {
   "cell_type": "code",
   "execution_count": 16,
   "metadata": {},
   "outputs": [
    {
     "name": "stdout",
     "output_type": "stream",
     "text": [
      "The probability of a customer arriving within 5 minutes is: 39.35%\n"
     ]
    }
   ],
   "source": [
    "import math\n",
    "\n",
    "def arrival_probability(average_arrival_time, time_interval):\n",
    "  \"\"\"\n",
    "  This function calculates the probability of a customer arriving within a specific time interval\n",
    "  given the average arrival time (assuming an exponential distribution).\n",
    "\n",
    "  Args:\n",
    "      average_arrival_time (float): Average time between customer arrivals (in minutes).\n",
    "      time_interval (float): Time interval to consider (in minutes).\n",
    "\n",
    "  Returns:\n",
    "      float: Probability of a customer arriving within the time interval (between 0 and 1).\n",
    "  \"\"\"\n",
    "\n",
    "  # Calculate arrival rate (lambda) as the inverse of average arrival time\n",
    "  arrival_rate = 1 / average_arrival_time\n",
    "\n",
    "  # Formula for probability in exponential distribution  P(t) = 1 - e^(-λt)\n",
    "  probability = 1 - math.exp(-arrival_rate * time_interval)\n",
    "\n",
    "  return probability\n",
    "\n",
    "# Input values for the challenge\n",
    "average_arrival_time = 10  # minutes\n",
    "time_interval = 5  # minutes\n",
    "\n",
    "# Calculate the probability\n",
    "probability = arrival_probability(average_arrival_time, time_interval)\n",
    "\n",
    "# Print the result formatted as a percentage\n",
    "print(f\"The probability of a customer arriving within {time_interval} minutes is: {probability:.2%}\")"
   ]
  },
  {
   "cell_type": "markdown",
   "metadata": {},
   "source": [
    "If there is no customer for 15minutes, employees can take a 5minutes break.\n",
    "\n",
    "What is the probability an employee taking a break?"
   ]
  },
  {
   "cell_type": "code",
   "execution_count": 19,
   "metadata": {},
   "outputs": [
    {
     "name": "stdout",
     "output_type": "stream",
     "text": [
      "The probability an employee taking a break is: 22.31%\n"
     ]
    }
   ],
   "source": [
    "time_interval15 = 15\n",
    "\n",
    "probability_in15 = arrival_probability(average_arrival_time, time_interval15)\n",
    "\n",
    "p_no_client_in15 = 1 - probability_in15\n",
    "print(f\"The probability an employee taking a break is: {p_no_client_in15:.2%}\")"
   ]
  },
  {
   "cell_type": "markdown",
   "metadata": {},
   "source": [
    "**Challenge 5**"
   ]
  },
  {
   "cell_type": "markdown",
   "metadata": {},
   "source": [
    "The weights of a certain species of birds follow a normal distribution with a mean weight of 150 grams and a standard deviation of 10 grams. \n",
    "\n",
    "- If we randomly select a bird, what is the probability that its weight is between 140 and 160 grams?"
   ]
  },
  {
   "cell_type": "code",
   "execution_count": 20,
   "metadata": {},
   "outputs": [
    {
     "name": "stdout",
     "output_type": "stream",
     "text": [
      "The probability of a bird weighing between 140 and 160 grams is: 68.27%\n"
     ]
    }
   ],
   "source": [
    "from scipy.stats import norm\n",
    "\n",
    "# Define the normal distribution parameters\n",
    "mean_weight = 150  # grams\n",
    "std_dev = 10  # grams\n",
    "\n",
    "# Lower and upper bounds for the weight range (140 grams to 160 grams)\n",
    "lower_bound = 140\n",
    "upper_bound = 160\n",
    "\n",
    "# Create a normal distribution object\n",
    "normal_dist = norm(mean_weight, std_dev)\n",
    "\n",
    "# Calculate the probability of a weight within the specified range\n",
    "probability = normal_dist.cdf(upper_bound) - normal_dist.cdf(lower_bound)\n",
    "\n",
    "# Print the probability formatted as a percentage\n",
    "print(f\"The probability of a bird weighing between {lower_bound} and {upper_bound} grams is: {probability:.2%}\")"
   ]
  },
  {
   "cell_type": "markdown",
   "metadata": {},
   "source": [
    "**Challenge 6**"
   ]
  },
  {
   "cell_type": "markdown",
   "metadata": {},
   "source": [
    "If the lifetime (in hours) of a certain electronic component follows an exponential distribution with a mean lifetime of 50 hours, what is the probability that the component fails within the first 30 hours?"
   ]
  },
  {
   "cell_type": "code",
   "execution_count": 21,
   "metadata": {},
   "outputs": [
    {
     "name": "stdout",
     "output_type": "stream",
     "text": [
      "The probability of failure within 30 hours is: 45.12%\n"
     ]
    }
   ],
   "source": [
    "def failure_probability(mean_lifetime, time_interval):\n",
    "\n",
    "\n",
    "  # Calculate rate parameter (lambda) as the inverse of mean lifetime\n",
    "  rate_parameter = 1 / mean_lifetime\n",
    "\n",
    "  # Formula for probability of failure within time interval\n",
    "  probability = 1 - math.exp(-rate_parameter * time_interval)\n",
    "\n",
    "  return probability\n",
    "\n",
    "# Input values\n",
    "mean_lifetime = 50  # hours\n",
    "time_interval = 30  # hours\n",
    "\n",
    "# Calculate the probability\n",
    "probability = failure_probability(mean_lifetime, time_interval)\n",
    "\n",
    "# Print the result formatted as a percentage\n",
    "print(f\"The probability of failure within {time_interval} hours is: {probability:.2%}\")\n",
    "    "
   ]
  },
  {
   "cell_type": "code",
   "execution_count": null,
   "metadata": {},
   "outputs": [],
   "source": []
  }
 ],
 "metadata": {
  "kernelspec": {
   "display_name": "Python 3 (ipykernel)",
   "language": "python",
   "name": "python3"
  },
  "language_info": {
   "codemirror_mode": {
    "name": "ipython",
    "version": 3
   },
   "file_extension": ".py",
   "mimetype": "text/x-python",
   "name": "python",
   "nbconvert_exporter": "python",
   "pygments_lexer": "ipython3",
   "version": "3.11.7"
  }
 },
 "nbformat": 4,
 "nbformat_minor": 2
}
